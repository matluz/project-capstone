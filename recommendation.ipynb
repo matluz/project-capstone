{
  "nbformat": 4,
  "nbformat_minor": 0,
  "metadata": {
    "colab": {
      "name": "recommendation.ipynb",
      "version": "0.3.2",
      "provenance": [],
      "collapsed_sections": [
        "VoW2MP98F0ML"
      ]
    },
    "kernelspec": {
      "name": "python3",
      "display_name": "Python 3"
    }
  },
  "cells": [
    {
      "metadata": {
        "id": "akHflFJN_bEU",
        "colab_type": "code",
        "colab": {}
      },
      "cell_type": "code",
      "source": [
        "import numpy as np \n",
        "import pandas as pd \n",
        "\n",
        "import matplotlib.pyplot as plt \n",
        "%matplotlib inline"
      ],
      "execution_count": 0,
      "outputs": []
    },
    {
      "metadata": {
        "id": "bDpgBj7qFJMV",
        "colab_type": "code",
        "colab": {}
      },
      "cell_type": "code",
      "source": [
        "!pip install -U -q PyDrive\n",
        "\n",
        "from pydrive.auth import GoogleAuth\n",
        "from pydrive.drive import GoogleDrive\n",
        "from google.colab import auth\n",
        "from oauth2client.client import GoogleCredentials\n",
        " \n",
        "# Autentica e cria o PyDrive client.\n",
        "auth.authenticate_user()\n",
        "gauth = GoogleAuth()\n",
        "gauth.credentials = GoogleCredentials.get_application_default()\n",
        "drive = GoogleDrive(gauth)"
      ],
      "execution_count": 0,
      "outputs": []
    },
    {
      "metadata": {
        "id": "xwDKKadFH26s",
        "colab_type": "code",
        "colab": {
          "base_uri": "https://localhost:8080/",
          "height": 92
        },
        "outputId": "3c4c4af9-813d-415d-e220-77223c93d3ce"
      },
      "cell_type": "code",
      "source": [
        "#retira o dataset da pasta https://drive.google.com/drive/folders/12dd-jyWztulFMp6DS0yIdrOfMmhXE3oc?usp=sharing \n",
        "\n",
        "file_list = drive.ListFile({'q': \"'12dd-jyWztulFMp6DS0yIdrOfMmhXE3oc' in parents and trashed=false\"}).GetList()\n",
        "for file1 in file_list:\n",
        "  print('title: %s, id: %s' % (file1['title'], file1['id']))"
      ],
      "execution_count": 3,
      "outputs": [
        {
          "output_type": "stream",
          "text": [
            "title: train.csv, id: 1R9gdoSaAaKCkjyzybWseVW_yBFSdKXyw\n",
            "title: songs.csv, id: 1XRQsVa1FNPmbvH164JzQBlR_TJsAk3HW\n",
            "title: song_extra_info.csv, id: 170e2VV0oCN1MWZ-I0wsiefo-n41ReBS-\n",
            "title: members.csv, id: 1mNTVZrMwGnFPT_R0cGbfc842zN11d3eP\n"
          ],
          "name": "stdout"
        }
      ]
    },
    {
      "metadata": {
        "id": "-sgyNj1iIhu1",
        "colab_type": "code",
        "colab": {}
      },
      "cell_type": "code",
      "source": [
        "train_downloaded = drive.CreateFile({'id': '1R9gdoSaAaKCkjyzybWseVW_yBFSdKXyw'})\n",
        "train_downloaded.GetContentFile('train.csv')\n",
        "songs_downloaded = drive.CreateFile({'id': '1XRQsVa1FNPmbvH164JzQBlR_TJsAk3HW'})\n",
        "songs_downloaded.GetContentFile('songs.csv')\n",
        "song_extra_downloaded = drive.CreateFile({'id': '170e2VV0oCN1MWZ-I0wsiefo-n41ReBS-'})\n",
        "song_extra_downloaded.GetContentFile('song_extra_info.csv')\n",
        "members_downloaded = drive.CreateFile({'id': '1mNTVZrMwGnFPT_R0cGbfc842zN11d3eP'})\n",
        "members_downloaded.GetContentFile('members.csv')"
      ],
      "execution_count": 0,
      "outputs": []
    },
    {
      "metadata": {
        "id": "WHl6R1fIJTaK",
        "colab_type": "code",
        "colab": {}
      },
      "cell_type": "code",
      "source": [
        "df = pd.read_csv(\"train.csv\")"
      ],
      "execution_count": 0,
      "outputs": []
    },
    {
      "metadata": {
        "id": "FJtjJBqVzU8b",
        "colab_type": "code",
        "colab": {
          "base_uri": "https://localhost:8080/",
          "height": 226
        },
        "outputId": "e3e864c8-c9b8-48c2-d189-98be32903d8a"
      },
      "cell_type": "code",
      "source": [
        "df.head()"
      ],
      "execution_count": 6,
      "outputs": [
        {
          "output_type": "execute_result",
          "data": {
            "text/html": [
              "<div>\n",
              "<style scoped>\n",
              "    .dataframe tbody tr th:only-of-type {\n",
              "        vertical-align: middle;\n",
              "    }\n",
              "\n",
              "    .dataframe tbody tr th {\n",
              "        vertical-align: top;\n",
              "    }\n",
              "\n",
              "    .dataframe thead th {\n",
              "        text-align: right;\n",
              "    }\n",
              "</style>\n",
              "<table border=\"1\" class=\"dataframe\">\n",
              "  <thead>\n",
              "    <tr style=\"text-align: right;\">\n",
              "      <th></th>\n",
              "      <th>msno</th>\n",
              "      <th>song_id</th>\n",
              "      <th>source_system_tab</th>\n",
              "      <th>source_screen_name</th>\n",
              "      <th>source_type</th>\n",
              "      <th>target</th>\n",
              "    </tr>\n",
              "  </thead>\n",
              "  <tbody>\n",
              "    <tr>\n",
              "      <th>0</th>\n",
              "      <td>FGtllVqz18RPiwJj/edr2gV78zirAiY/9SmYvia+kCg=</td>\n",
              "      <td>BBzumQNXUHKdEBOB7mAJuzok+IJA1c2Ryg/yzTF6tik=</td>\n",
              "      <td>explore</td>\n",
              "      <td>Explore</td>\n",
              "      <td>online-playlist</td>\n",
              "      <td>1</td>\n",
              "    </tr>\n",
              "    <tr>\n",
              "      <th>1</th>\n",
              "      <td>Xumu+NIjS6QYVxDS4/t3SawvJ7viT9hPKXmf0RtLNx8=</td>\n",
              "      <td>bhp/MpSNoqoxOIB+/l8WPqu6jldth4DIpCm3ayXnJqM=</td>\n",
              "      <td>my library</td>\n",
              "      <td>Local playlist more</td>\n",
              "      <td>local-playlist</td>\n",
              "      <td>1</td>\n",
              "    </tr>\n",
              "    <tr>\n",
              "      <th>2</th>\n",
              "      <td>Xumu+NIjS6QYVxDS4/t3SawvJ7viT9hPKXmf0RtLNx8=</td>\n",
              "      <td>JNWfrrC7zNN7BdMpsISKa4Mw+xVJYNnxXh3/Epw7QgY=</td>\n",
              "      <td>my library</td>\n",
              "      <td>Local playlist more</td>\n",
              "      <td>local-playlist</td>\n",
              "      <td>1</td>\n",
              "    </tr>\n",
              "    <tr>\n",
              "      <th>3</th>\n",
              "      <td>Xumu+NIjS6QYVxDS4/t3SawvJ7viT9hPKXmf0RtLNx8=</td>\n",
              "      <td>2A87tzfnJTSWqD7gIZHisolhe4DMdzkbd6LzO1KHjNs=</td>\n",
              "      <td>my library</td>\n",
              "      <td>Local playlist more</td>\n",
              "      <td>local-playlist</td>\n",
              "      <td>1</td>\n",
              "    </tr>\n",
              "    <tr>\n",
              "      <th>4</th>\n",
              "      <td>FGtllVqz18RPiwJj/edr2gV78zirAiY/9SmYvia+kCg=</td>\n",
              "      <td>3qm6XTZ6MOCU11x8FIVbAGH5l5uMkT3/ZalWG1oo2Gc=</td>\n",
              "      <td>explore</td>\n",
              "      <td>Explore</td>\n",
              "      <td>online-playlist</td>\n",
              "      <td>1</td>\n",
              "    </tr>\n",
              "  </tbody>\n",
              "</table>\n",
              "</div>"
            ],
            "text/plain": [
              "                                           msno  \\\n",
              "0  FGtllVqz18RPiwJj/edr2gV78zirAiY/9SmYvia+kCg=   \n",
              "1  Xumu+NIjS6QYVxDS4/t3SawvJ7viT9hPKXmf0RtLNx8=   \n",
              "2  Xumu+NIjS6QYVxDS4/t3SawvJ7viT9hPKXmf0RtLNx8=   \n",
              "3  Xumu+NIjS6QYVxDS4/t3SawvJ7viT9hPKXmf0RtLNx8=   \n",
              "4  FGtllVqz18RPiwJj/edr2gV78zirAiY/9SmYvia+kCg=   \n",
              "\n",
              "                                        song_id source_system_tab  \\\n",
              "0  BBzumQNXUHKdEBOB7mAJuzok+IJA1c2Ryg/yzTF6tik=           explore   \n",
              "1  bhp/MpSNoqoxOIB+/l8WPqu6jldth4DIpCm3ayXnJqM=        my library   \n",
              "2  JNWfrrC7zNN7BdMpsISKa4Mw+xVJYNnxXh3/Epw7QgY=        my library   \n",
              "3  2A87tzfnJTSWqD7gIZHisolhe4DMdzkbd6LzO1KHjNs=        my library   \n",
              "4  3qm6XTZ6MOCU11x8FIVbAGH5l5uMkT3/ZalWG1oo2Gc=           explore   \n",
              "\n",
              "    source_screen_name      source_type  target  \n",
              "0              Explore  online-playlist       1  \n",
              "1  Local playlist more   local-playlist       1  \n",
              "2  Local playlist more   local-playlist       1  \n",
              "3  Local playlist more   local-playlist       1  \n",
              "4              Explore  online-playlist       1  "
            ]
          },
          "metadata": {
            "tags": []
          },
          "execution_count": 6
        }
      ]
    },
    {
      "metadata": {
        "id": "oh-ds059M_i4",
        "colab_type": "code",
        "colab": {}
      },
      "cell_type": "code",
      "source": [
        "df_songs = pd.read_csv(\"songs.csv\")\n",
        "df_songs_extra = pd.read_csv(\"song_extra_info.csv\")\n",
        "df_members = pd.read_csv(\"members.csv\",parse_dates=[\"registration_init_time\",\"expiration_date\"])"
      ],
      "execution_count": 0,
      "outputs": []
    },
    {
      "metadata": {
        "id": "Iy9pzp14QMAg",
        "colab_type": "code",
        "colab": {}
      },
      "cell_type": "code",
      "source": [
        "#unindo informações do dataset \"songs\" e members\n",
        "\n",
        "df =df.merge(df_songs,how=\"left\",on=\"song_id\")\n",
        "df = df.merge(df_members,how=\"left\",on=\"msno\")"
      ],
      "execution_count": 0,
      "outputs": []
    },
    {
      "metadata": {
        "id": "xSoBaC95zjLD",
        "colab_type": "code",
        "colab": {
          "base_uri": "https://localhost:8080/",
          "height": 469
        },
        "outputId": "c427a444-a9ae-42d1-8d6f-b74f9c975015"
      },
      "cell_type": "code",
      "source": [
        "df.head()"
      ],
      "execution_count": 9,
      "outputs": [
        {
          "output_type": "execute_result",
          "data": {
            "text/html": [
              "<div>\n",
              "<style scoped>\n",
              "    .dataframe tbody tr th:only-of-type {\n",
              "        vertical-align: middle;\n",
              "    }\n",
              "\n",
              "    .dataframe tbody tr th {\n",
              "        vertical-align: top;\n",
              "    }\n",
              "\n",
              "    .dataframe thead th {\n",
              "        text-align: right;\n",
              "    }\n",
              "</style>\n",
              "<table border=\"1\" class=\"dataframe\">\n",
              "  <thead>\n",
              "    <tr style=\"text-align: right;\">\n",
              "      <th></th>\n",
              "      <th>msno</th>\n",
              "      <th>song_id</th>\n",
              "      <th>source_system_tab</th>\n",
              "      <th>source_screen_name</th>\n",
              "      <th>source_type</th>\n",
              "      <th>target</th>\n",
              "      <th>song_length</th>\n",
              "      <th>genre_ids</th>\n",
              "      <th>artist_name</th>\n",
              "      <th>composer</th>\n",
              "      <th>lyricist</th>\n",
              "      <th>language</th>\n",
              "      <th>city</th>\n",
              "      <th>bd</th>\n",
              "      <th>gender</th>\n",
              "      <th>registered_via</th>\n",
              "      <th>registration_init_time</th>\n",
              "      <th>expiration_date</th>\n",
              "    </tr>\n",
              "  </thead>\n",
              "  <tbody>\n",
              "    <tr>\n",
              "      <th>0</th>\n",
              "      <td>FGtllVqz18RPiwJj/edr2gV78zirAiY/9SmYvia+kCg=</td>\n",
              "      <td>BBzumQNXUHKdEBOB7mAJuzok+IJA1c2Ryg/yzTF6tik=</td>\n",
              "      <td>explore</td>\n",
              "      <td>Explore</td>\n",
              "      <td>online-playlist</td>\n",
              "      <td>1</td>\n",
              "      <td>206471.0</td>\n",
              "      <td>359</td>\n",
              "      <td>Bastille</td>\n",
              "      <td>Dan Smith| Mark Crew</td>\n",
              "      <td>NaN</td>\n",
              "      <td>52.0</td>\n",
              "      <td>1</td>\n",
              "      <td>0</td>\n",
              "      <td>NaN</td>\n",
              "      <td>7</td>\n",
              "      <td>2012-01-02</td>\n",
              "      <td>2017-10-05</td>\n",
              "    </tr>\n",
              "    <tr>\n",
              "      <th>1</th>\n",
              "      <td>Xumu+NIjS6QYVxDS4/t3SawvJ7viT9hPKXmf0RtLNx8=</td>\n",
              "      <td>bhp/MpSNoqoxOIB+/l8WPqu6jldth4DIpCm3ayXnJqM=</td>\n",
              "      <td>my library</td>\n",
              "      <td>Local playlist more</td>\n",
              "      <td>local-playlist</td>\n",
              "      <td>1</td>\n",
              "      <td>284584.0</td>\n",
              "      <td>1259</td>\n",
              "      <td>Various Artists</td>\n",
              "      <td>NaN</td>\n",
              "      <td>NaN</td>\n",
              "      <td>52.0</td>\n",
              "      <td>13</td>\n",
              "      <td>24</td>\n",
              "      <td>female</td>\n",
              "      <td>9</td>\n",
              "      <td>2011-05-25</td>\n",
              "      <td>2017-09-11</td>\n",
              "    </tr>\n",
              "    <tr>\n",
              "      <th>2</th>\n",
              "      <td>Xumu+NIjS6QYVxDS4/t3SawvJ7viT9hPKXmf0RtLNx8=</td>\n",
              "      <td>JNWfrrC7zNN7BdMpsISKa4Mw+xVJYNnxXh3/Epw7QgY=</td>\n",
              "      <td>my library</td>\n",
              "      <td>Local playlist more</td>\n",
              "      <td>local-playlist</td>\n",
              "      <td>1</td>\n",
              "      <td>225396.0</td>\n",
              "      <td>1259</td>\n",
              "      <td>Nas</td>\n",
              "      <td>N. Jones、W. Adams、J. Lordan、D. Ingle</td>\n",
              "      <td>NaN</td>\n",
              "      <td>52.0</td>\n",
              "      <td>13</td>\n",
              "      <td>24</td>\n",
              "      <td>female</td>\n",
              "      <td>9</td>\n",
              "      <td>2011-05-25</td>\n",
              "      <td>2017-09-11</td>\n",
              "    </tr>\n",
              "    <tr>\n",
              "      <th>3</th>\n",
              "      <td>Xumu+NIjS6QYVxDS4/t3SawvJ7viT9hPKXmf0RtLNx8=</td>\n",
              "      <td>2A87tzfnJTSWqD7gIZHisolhe4DMdzkbd6LzO1KHjNs=</td>\n",
              "      <td>my library</td>\n",
              "      <td>Local playlist more</td>\n",
              "      <td>local-playlist</td>\n",
              "      <td>1</td>\n",
              "      <td>255512.0</td>\n",
              "      <td>1019</td>\n",
              "      <td>Soundway</td>\n",
              "      <td>Kwadwo Donkoh</td>\n",
              "      <td>NaN</td>\n",
              "      <td>-1.0</td>\n",
              "      <td>13</td>\n",
              "      <td>24</td>\n",
              "      <td>female</td>\n",
              "      <td>9</td>\n",
              "      <td>2011-05-25</td>\n",
              "      <td>2017-09-11</td>\n",
              "    </tr>\n",
              "    <tr>\n",
              "      <th>4</th>\n",
              "      <td>FGtllVqz18RPiwJj/edr2gV78zirAiY/9SmYvia+kCg=</td>\n",
              "      <td>3qm6XTZ6MOCU11x8FIVbAGH5l5uMkT3/ZalWG1oo2Gc=</td>\n",
              "      <td>explore</td>\n",
              "      <td>Explore</td>\n",
              "      <td>online-playlist</td>\n",
              "      <td>1</td>\n",
              "      <td>187802.0</td>\n",
              "      <td>1011</td>\n",
              "      <td>Brett Young</td>\n",
              "      <td>Brett Young| Kelly Archer| Justin Ebach</td>\n",
              "      <td>NaN</td>\n",
              "      <td>52.0</td>\n",
              "      <td>1</td>\n",
              "      <td>0</td>\n",
              "      <td>NaN</td>\n",
              "      <td>7</td>\n",
              "      <td>2012-01-02</td>\n",
              "      <td>2017-10-05</td>\n",
              "    </tr>\n",
              "  </tbody>\n",
              "</table>\n",
              "</div>"
            ],
            "text/plain": [
              "                                           msno  \\\n",
              "0  FGtllVqz18RPiwJj/edr2gV78zirAiY/9SmYvia+kCg=   \n",
              "1  Xumu+NIjS6QYVxDS4/t3SawvJ7viT9hPKXmf0RtLNx8=   \n",
              "2  Xumu+NIjS6QYVxDS4/t3SawvJ7viT9hPKXmf0RtLNx8=   \n",
              "3  Xumu+NIjS6QYVxDS4/t3SawvJ7viT9hPKXmf0RtLNx8=   \n",
              "4  FGtllVqz18RPiwJj/edr2gV78zirAiY/9SmYvia+kCg=   \n",
              "\n",
              "                                        song_id source_system_tab  \\\n",
              "0  BBzumQNXUHKdEBOB7mAJuzok+IJA1c2Ryg/yzTF6tik=           explore   \n",
              "1  bhp/MpSNoqoxOIB+/l8WPqu6jldth4DIpCm3ayXnJqM=        my library   \n",
              "2  JNWfrrC7zNN7BdMpsISKa4Mw+xVJYNnxXh3/Epw7QgY=        my library   \n",
              "3  2A87tzfnJTSWqD7gIZHisolhe4DMdzkbd6LzO1KHjNs=        my library   \n",
              "4  3qm6XTZ6MOCU11x8FIVbAGH5l5uMkT3/ZalWG1oo2Gc=           explore   \n",
              "\n",
              "    source_screen_name      source_type  target  song_length genre_ids  \\\n",
              "0              Explore  online-playlist       1     206471.0       359   \n",
              "1  Local playlist more   local-playlist       1     284584.0      1259   \n",
              "2  Local playlist more   local-playlist       1     225396.0      1259   \n",
              "3  Local playlist more   local-playlist       1     255512.0      1019   \n",
              "4              Explore  online-playlist       1     187802.0      1011   \n",
              "\n",
              "       artist_name                                 composer lyricist  \\\n",
              "0         Bastille                     Dan Smith| Mark Crew      NaN   \n",
              "1  Various Artists                                      NaN      NaN   \n",
              "2              Nas     N. Jones、W. Adams、J. Lordan、D. Ingle      NaN   \n",
              "3         Soundway                            Kwadwo Donkoh      NaN   \n",
              "4      Brett Young  Brett Young| Kelly Archer| Justin Ebach      NaN   \n",
              "\n",
              "   language  city  bd  gender  registered_via registration_init_time  \\\n",
              "0      52.0     1   0     NaN               7             2012-01-02   \n",
              "1      52.0    13  24  female               9             2011-05-25   \n",
              "2      52.0    13  24  female               9             2011-05-25   \n",
              "3      -1.0    13  24  female               9             2011-05-25   \n",
              "4      52.0     1   0     NaN               7             2012-01-02   \n",
              "\n",
              "  expiration_date  \n",
              "0      2017-10-05  \n",
              "1      2017-09-11  \n",
              "2      2017-09-11  \n",
              "3      2017-09-11  \n",
              "4      2017-10-05  "
            ]
          },
          "metadata": {
            "tags": []
          },
          "execution_count": 9
        }
      ]
    },
    {
      "metadata": {
        "id": "F6p9Aa9UW6Z4",
        "colab_type": "text"
      },
      "cell_type": "markdown",
      "source": [
        "## Lidando com valores null"
      ]
    },
    {
      "metadata": {
        "id": "ERBERgtZQgHS",
        "colab_type": "code",
        "colab": {}
      },
      "cell_type": "code",
      "source": [
        "df['gender'].fillna(value=\"Unknown\",inplace=True)\n",
        "\n",
        "df['source_system_tab'].fillna(value=\"Unknown\",inplace=True)\n",
        "\n",
        "df['source_screen_name'].fillna(value=\"Unknown\",inplace=True)\n",
        "\n",
        "df['source_type'].fillna(value=\"Unknown\",inplace=True)\n",
        "\n",
        "df['genre_ids'].fillna(value=\"Unknown\",inplace=True)\n",
        "\n",
        "df['artist_name'].fillna(value=\"Unknown\",inplace=True)\n",
        "\n",
        "df['composer'].fillna(value=\"Unknown\",inplace=True)\n",
        "\n",
        "df['lyricist'].fillna(value=\"Unknown\",inplace=True)\n",
        "\n",
        "df['song_length'].fillna(value=df['song_length'].mean(),inplace=True)\n",
        "\n",
        "df['language'].fillna(value=df['language'].mode()[0],inplace=True)"
      ],
      "execution_count": 0,
      "outputs": []
    },
    {
      "metadata": {
        "id": "emTkNDkqXlIy",
        "colab_type": "text"
      },
      "cell_type": "markdown",
      "source": [
        "## IDS de Gênero"
      ]
    },
    {
      "metadata": {
        "id": "VDDtKogHQ-bz",
        "colab_type": "code",
        "colab": {}
      },
      "cell_type": "code",
      "source": [
        "df['genre_ids'] = df['genre_ids'].str.split(\"|\")\n",
        "\n",
        "#Nova coluna\n",
        "df['genre_count'] = df['genre_ids'].apply(lambda x : len(x) if \"Unknown\" not in x else 0)"
      ],
      "execution_count": 0,
      "outputs": []
    },
    {
      "metadata": {
        "id": "LCgz0HO8Xt4h",
        "colab_type": "text"
      },
      "cell_type": "markdown",
      "source": [
        "## Artistas"
      ]
    },
    {
      "metadata": {
        "id": "k7KZZx11blhl",
        "colab_type": "code",
        "colab": {
          "base_uri": "https://localhost:8080/",
          "height": 36
        },
        "outputId": "632aa738-cf3a-4e5f-dd3a-67bdc7006398"
      },
      "cell_type": "code",
      "source": [
        "df['artist_name'].nunique()"
      ],
      "execution_count": 12,
      "outputs": [
        {
          "output_type": "execute_result",
          "data": {
            "text/plain": [
              "40583"
            ]
          },
          "metadata": {
            "tags": []
          },
          "execution_count": 12
        }
      ]
    },
    {
      "metadata": {
        "id": "7AUEFY4-SxsF",
        "colab_type": "code",
        "colab": {
          "base_uri": "https://localhost:8080/",
          "height": 206
        },
        "outputId": "a84eb2f1-b549-4b6b-dad0-12713e697fc7"
      },
      "cell_type": "code",
      "source": [
        "\n",
        "\n",
        "df_artists = df.loc[:,[\"artist_name\",\"target\"]]\n",
        "artists1 = df_artists.groupby([\"artist_name\"],as_index=False).sum().rename(columns={\"target\":\"repeat_count\"})\n",
        "artists2 = df_artists.groupby([\"artist_name\"],as_index=False).count().rename(columns = {\"target\":\"play_count\"})\n",
        "\n",
        "\n",
        "\n",
        "df_artist_repeats = artists1.merge(artists2,how=\"inner\",on=\"artist_name\")\n",
        "df_artist_repeats.head()"
      ],
      "execution_count": 13,
      "outputs": [
        {
          "output_type": "execute_result",
          "data": {
            "text/html": [
              "<div>\n",
              "<style scoped>\n",
              "    .dataframe tbody tr th:only-of-type {\n",
              "        vertical-align: middle;\n",
              "    }\n",
              "\n",
              "    .dataframe tbody tr th {\n",
              "        vertical-align: top;\n",
              "    }\n",
              "\n",
              "    .dataframe thead th {\n",
              "        text-align: right;\n",
              "    }\n",
              "</style>\n",
              "<table border=\"1\" class=\"dataframe\">\n",
              "  <thead>\n",
              "    <tr style=\"text-align: right;\">\n",
              "      <th></th>\n",
              "      <th>artist_name</th>\n",
              "      <th>repeat_count</th>\n",
              "      <th>play_count</th>\n",
              "    </tr>\n",
              "  </thead>\n",
              "  <tbody>\n",
              "    <tr>\n",
              "      <th>0</th>\n",
              "      <td>!Conz</td>\n",
              "      <td>1</td>\n",
              "      <td>1</td>\n",
              "    </tr>\n",
              "    <tr>\n",
              "      <th>1</th>\n",
              "      <td>!magnic!</td>\n",
              "      <td>0</td>\n",
              "      <td>1</td>\n",
              "    </tr>\n",
              "    <tr>\n",
              "      <th>2</th>\n",
              "      <td>#037 (#037)</td>\n",
              "      <td>20</td>\n",
              "      <td>84</td>\n",
              "    </tr>\n",
              "    <tr>\n",
              "      <th>3</th>\n",
              "      <td>#1 Beatles Now</td>\n",
              "      <td>7</td>\n",
              "      <td>32</td>\n",
              "    </tr>\n",
              "    <tr>\n",
              "      <th>4</th>\n",
              "      <td>#1 Club Hits - Best Of Dance &amp; Techno</td>\n",
              "      <td>5</td>\n",
              "      <td>7</td>\n",
              "    </tr>\n",
              "  </tbody>\n",
              "</table>\n",
              "</div>"
            ],
            "text/plain": [
              "                             artist_name  repeat_count  play_count\n",
              "0                                  !Conz             1           1\n",
              "1                               !magnic!             0           1\n",
              "2                            #037 (#037)            20          84\n",
              "3                         #1 Beatles Now             7          32\n",
              "4  #1 Club Hits - Best Of Dance & Techno             5           7"
            ]
          },
          "metadata": {
            "tags": []
          },
          "execution_count": 13
        }
      ]
    },
    {
      "metadata": {
        "id": "XhpsWEw0S9ZX",
        "colab_type": "code",
        "colab": {
          "base_uri": "https://localhost:8080/",
          "height": 206
        },
        "outputId": "da5e2290-06b0-4dec-9078-efe5165bd91f"
      },
      "cell_type": "code",
      "source": [
        "df_artist_repeats[\"repeat_percentage\"] = round((df_artist_repeats['repeat_count']*100) / df_artist_repeats['play_count'],1)\n",
        "df_artist_repeats.head()"
      ],
      "execution_count": 14,
      "outputs": [
        {
          "output_type": "execute_result",
          "data": {
            "text/html": [
              "<div>\n",
              "<style scoped>\n",
              "    .dataframe tbody tr th:only-of-type {\n",
              "        vertical-align: middle;\n",
              "    }\n",
              "\n",
              "    .dataframe tbody tr th {\n",
              "        vertical-align: top;\n",
              "    }\n",
              "\n",
              "    .dataframe thead th {\n",
              "        text-align: right;\n",
              "    }\n",
              "</style>\n",
              "<table border=\"1\" class=\"dataframe\">\n",
              "  <thead>\n",
              "    <tr style=\"text-align: right;\">\n",
              "      <th></th>\n",
              "      <th>artist_name</th>\n",
              "      <th>repeat_count</th>\n",
              "      <th>play_count</th>\n",
              "      <th>repeat_percentage</th>\n",
              "    </tr>\n",
              "  </thead>\n",
              "  <tbody>\n",
              "    <tr>\n",
              "      <th>0</th>\n",
              "      <td>!Conz</td>\n",
              "      <td>1</td>\n",
              "      <td>1</td>\n",
              "      <td>100.0</td>\n",
              "    </tr>\n",
              "    <tr>\n",
              "      <th>1</th>\n",
              "      <td>!magnic!</td>\n",
              "      <td>0</td>\n",
              "      <td>1</td>\n",
              "      <td>0.0</td>\n",
              "    </tr>\n",
              "    <tr>\n",
              "      <th>2</th>\n",
              "      <td>#037 (#037)</td>\n",
              "      <td>20</td>\n",
              "      <td>84</td>\n",
              "      <td>23.8</td>\n",
              "    </tr>\n",
              "    <tr>\n",
              "      <th>3</th>\n",
              "      <td>#1 Beatles Now</td>\n",
              "      <td>7</td>\n",
              "      <td>32</td>\n",
              "      <td>21.9</td>\n",
              "    </tr>\n",
              "    <tr>\n",
              "      <th>4</th>\n",
              "      <td>#1 Club Hits - Best Of Dance &amp; Techno</td>\n",
              "      <td>5</td>\n",
              "      <td>7</td>\n",
              "      <td>71.4</td>\n",
              "    </tr>\n",
              "  </tbody>\n",
              "</table>\n",
              "</div>"
            ],
            "text/plain": [
              "                             artist_name  repeat_count  play_count  \\\n",
              "0                                  !Conz             1           1   \n",
              "1                               !magnic!             0           1   \n",
              "2                            #037 (#037)            20          84   \n",
              "3                         #1 Beatles Now             7          32   \n",
              "4  #1 Club Hits - Best Of Dance & Techno             5           7   \n",
              "\n",
              "   repeat_percentage  \n",
              "0              100.0  \n",
              "1                0.0  \n",
              "2               23.8  \n",
              "3               21.9  \n",
              "4               71.4  "
            ]
          },
          "metadata": {
            "tags": []
          },
          "execution_count": 14
        }
      ]
    },
    {
      "metadata": {
        "id": "edmS5g_MTEF4",
        "colab_type": "code",
        "colab": {}
      },
      "cell_type": "code",
      "source": [
        "df_artist_repeats.drop([\"repeat_count\",\"play_count\"],axis=1,inplace=True)\n",
        "\n",
        "df = df.merge(df_artist_repeats,on=\"artist_name\",how=\"left\").rename(columns={\"repeat_percentage\":\"artist_repeat_percentage\"})\n",
        "\n",
        "df.drop([\"genre_ids\",\"artist_name\"],axis=1,inplace=True)\n",
        "\n",
        "del df_artist_repeats\n",
        "del df_artists"
      ],
      "execution_count": 0,
      "outputs": []
    },
    {
      "metadata": {
        "id": "2G1ztXJ2YLSd",
        "colab_type": "text"
      },
      "cell_type": "markdown",
      "source": [
        "## Composers"
      ]
    },
    {
      "metadata": {
        "id": "QmTeNn_rYeSo",
        "colab_type": "code",
        "colab": {
          "base_uri": "https://localhost:8080/",
          "height": 206
        },
        "outputId": "d86ab91d-8e7c-4083-b913-7bdaa232478e"
      },
      "cell_type": "code",
      "source": [
        "df['composer'] = df['composer'].str.split(\"|\") \n",
        "\n",
        "df['composer_count'] = df['composer'].apply(lambda x : len(x) if \"Unknown\" not in x else 0 )\n",
        "\n",
        "df['source_system_tab'].value_counts()"
      ],
      "execution_count": 16,
      "outputs": [
        {
          "output_type": "execute_result",
          "data": {
            "text/plain": [
              "my library      3684730\n",
              "discover        2179252\n",
              "search           623286\n",
              "radio            476701\n",
              "listen with      212266\n",
              "explore          167949\n",
              "Unknown           24849\n",
              "notification       6185\n",
              "settings           2200\n",
              "Name: source_system_tab, dtype: int64"
            ]
          },
          "metadata": {
            "tags": []
          },
          "execution_count": 16
        }
      ]
    },
    {
      "metadata": {
        "id": "GEG3gelgpEfk",
        "colab_type": "code",
        "colab": {
          "base_uri": "https://localhost:8080/",
          "height": 452
        },
        "outputId": "d2a6d060-e6d3-41e5-a044-dbd50bac2a9c"
      },
      "cell_type": "code",
      "source": [
        "df.head()"
      ],
      "execution_count": 17,
      "outputs": [
        {
          "output_type": "execute_result",
          "data": {
            "text/html": [
              "<div>\n",
              "<style scoped>\n",
              "    .dataframe tbody tr th:only-of-type {\n",
              "        vertical-align: middle;\n",
              "    }\n",
              "\n",
              "    .dataframe tbody tr th {\n",
              "        vertical-align: top;\n",
              "    }\n",
              "\n",
              "    .dataframe thead th {\n",
              "        text-align: right;\n",
              "    }\n",
              "</style>\n",
              "<table border=\"1\" class=\"dataframe\">\n",
              "  <thead>\n",
              "    <tr style=\"text-align: right;\">\n",
              "      <th></th>\n",
              "      <th>msno</th>\n",
              "      <th>song_id</th>\n",
              "      <th>source_system_tab</th>\n",
              "      <th>source_screen_name</th>\n",
              "      <th>source_type</th>\n",
              "      <th>target</th>\n",
              "      <th>song_length</th>\n",
              "      <th>composer</th>\n",
              "      <th>lyricist</th>\n",
              "      <th>language</th>\n",
              "      <th>city</th>\n",
              "      <th>bd</th>\n",
              "      <th>gender</th>\n",
              "      <th>registered_via</th>\n",
              "      <th>registration_init_time</th>\n",
              "      <th>expiration_date</th>\n",
              "      <th>genre_count</th>\n",
              "      <th>artist_repeat_percentage</th>\n",
              "      <th>composer_count</th>\n",
              "    </tr>\n",
              "  </thead>\n",
              "  <tbody>\n",
              "    <tr>\n",
              "      <th>0</th>\n",
              "      <td>FGtllVqz18RPiwJj/edr2gV78zirAiY/9SmYvia+kCg=</td>\n",
              "      <td>BBzumQNXUHKdEBOB7mAJuzok+IJA1c2Ryg/yzTF6tik=</td>\n",
              "      <td>explore</td>\n",
              "      <td>Explore</td>\n",
              "      <td>online-playlist</td>\n",
              "      <td>1</td>\n",
              "      <td>206471.0</td>\n",
              "      <td>[Dan Smith,  Mark Crew]</td>\n",
              "      <td>Unknown</td>\n",
              "      <td>52.0</td>\n",
              "      <td>1</td>\n",
              "      <td>0</td>\n",
              "      <td>Unknown</td>\n",
              "      <td>7</td>\n",
              "      <td>2012-01-02</td>\n",
              "      <td>2017-10-05</td>\n",
              "      <td>1</td>\n",
              "      <td>46.3</td>\n",
              "      <td>2</td>\n",
              "    </tr>\n",
              "    <tr>\n",
              "      <th>1</th>\n",
              "      <td>Xumu+NIjS6QYVxDS4/t3SawvJ7viT9hPKXmf0RtLNx8=</td>\n",
              "      <td>bhp/MpSNoqoxOIB+/l8WPqu6jldth4DIpCm3ayXnJqM=</td>\n",
              "      <td>my library</td>\n",
              "      <td>Local playlist more</td>\n",
              "      <td>local-playlist</td>\n",
              "      <td>1</td>\n",
              "      <td>284584.0</td>\n",
              "      <td>[Unknown]</td>\n",
              "      <td>Unknown</td>\n",
              "      <td>52.0</td>\n",
              "      <td>13</td>\n",
              "      <td>24</td>\n",
              "      <td>female</td>\n",
              "      <td>9</td>\n",
              "      <td>2011-05-25</td>\n",
              "      <td>2017-09-11</td>\n",
              "      <td>1</td>\n",
              "      <td>51.0</td>\n",
              "      <td>0</td>\n",
              "    </tr>\n",
              "    <tr>\n",
              "      <th>2</th>\n",
              "      <td>Xumu+NIjS6QYVxDS4/t3SawvJ7viT9hPKXmf0RtLNx8=</td>\n",
              "      <td>JNWfrrC7zNN7BdMpsISKa4Mw+xVJYNnxXh3/Epw7QgY=</td>\n",
              "      <td>my library</td>\n",
              "      <td>Local playlist more</td>\n",
              "      <td>local-playlist</td>\n",
              "      <td>1</td>\n",
              "      <td>225396.0</td>\n",
              "      <td>[N. Jones、W. Adams、J. Lordan、D. Ingle]</td>\n",
              "      <td>Unknown</td>\n",
              "      <td>52.0</td>\n",
              "      <td>13</td>\n",
              "      <td>24</td>\n",
              "      <td>female</td>\n",
              "      <td>9</td>\n",
              "      <td>2011-05-25</td>\n",
              "      <td>2017-09-11</td>\n",
              "      <td>1</td>\n",
              "      <td>21.5</td>\n",
              "      <td>1</td>\n",
              "    </tr>\n",
              "    <tr>\n",
              "      <th>3</th>\n",
              "      <td>Xumu+NIjS6QYVxDS4/t3SawvJ7viT9hPKXmf0RtLNx8=</td>\n",
              "      <td>2A87tzfnJTSWqD7gIZHisolhe4DMdzkbd6LzO1KHjNs=</td>\n",
              "      <td>my library</td>\n",
              "      <td>Local playlist more</td>\n",
              "      <td>local-playlist</td>\n",
              "      <td>1</td>\n",
              "      <td>255512.0</td>\n",
              "      <td>[Kwadwo Donkoh]</td>\n",
              "      <td>Unknown</td>\n",
              "      <td>-1.0</td>\n",
              "      <td>13</td>\n",
              "      <td>24</td>\n",
              "      <td>female</td>\n",
              "      <td>9</td>\n",
              "      <td>2011-05-25</td>\n",
              "      <td>2017-09-11</td>\n",
              "      <td>1</td>\n",
              "      <td>100.0</td>\n",
              "      <td>1</td>\n",
              "    </tr>\n",
              "    <tr>\n",
              "      <th>4</th>\n",
              "      <td>FGtllVqz18RPiwJj/edr2gV78zirAiY/9SmYvia+kCg=</td>\n",
              "      <td>3qm6XTZ6MOCU11x8FIVbAGH5l5uMkT3/ZalWG1oo2Gc=</td>\n",
              "      <td>explore</td>\n",
              "      <td>Explore</td>\n",
              "      <td>online-playlist</td>\n",
              "      <td>1</td>\n",
              "      <td>187802.0</td>\n",
              "      <td>[Brett Young,  Kelly Archer,  Justin Ebach]</td>\n",
              "      <td>Unknown</td>\n",
              "      <td>52.0</td>\n",
              "      <td>1</td>\n",
              "      <td>0</td>\n",
              "      <td>Unknown</td>\n",
              "      <td>7</td>\n",
              "      <td>2012-01-02</td>\n",
              "      <td>2017-10-05</td>\n",
              "      <td>1</td>\n",
              "      <td>37.7</td>\n",
              "      <td>3</td>\n",
              "    </tr>\n",
              "  </tbody>\n",
              "</table>\n",
              "</div>"
            ],
            "text/plain": [
              "                                           msno  \\\n",
              "0  FGtllVqz18RPiwJj/edr2gV78zirAiY/9SmYvia+kCg=   \n",
              "1  Xumu+NIjS6QYVxDS4/t3SawvJ7viT9hPKXmf0RtLNx8=   \n",
              "2  Xumu+NIjS6QYVxDS4/t3SawvJ7viT9hPKXmf0RtLNx8=   \n",
              "3  Xumu+NIjS6QYVxDS4/t3SawvJ7viT9hPKXmf0RtLNx8=   \n",
              "4  FGtllVqz18RPiwJj/edr2gV78zirAiY/9SmYvia+kCg=   \n",
              "\n",
              "                                        song_id source_system_tab  \\\n",
              "0  BBzumQNXUHKdEBOB7mAJuzok+IJA1c2Ryg/yzTF6tik=           explore   \n",
              "1  bhp/MpSNoqoxOIB+/l8WPqu6jldth4DIpCm3ayXnJqM=        my library   \n",
              "2  JNWfrrC7zNN7BdMpsISKa4Mw+xVJYNnxXh3/Epw7QgY=        my library   \n",
              "3  2A87tzfnJTSWqD7gIZHisolhe4DMdzkbd6LzO1KHjNs=        my library   \n",
              "4  3qm6XTZ6MOCU11x8FIVbAGH5l5uMkT3/ZalWG1oo2Gc=           explore   \n",
              "\n",
              "    source_screen_name      source_type  target  song_length  \\\n",
              "0              Explore  online-playlist       1     206471.0   \n",
              "1  Local playlist more   local-playlist       1     284584.0   \n",
              "2  Local playlist more   local-playlist       1     225396.0   \n",
              "3  Local playlist more   local-playlist       1     255512.0   \n",
              "4              Explore  online-playlist       1     187802.0   \n",
              "\n",
              "                                      composer lyricist  language  city  bd  \\\n",
              "0                      [Dan Smith,  Mark Crew]  Unknown      52.0     1   0   \n",
              "1                                    [Unknown]  Unknown      52.0    13  24   \n",
              "2       [N. Jones、W. Adams、J. Lordan、D. Ingle]  Unknown      52.0    13  24   \n",
              "3                              [Kwadwo Donkoh]  Unknown      -1.0    13  24   \n",
              "4  [Brett Young,  Kelly Archer,  Justin Ebach]  Unknown      52.0     1   0   \n",
              "\n",
              "    gender  registered_via registration_init_time expiration_date  \\\n",
              "0  Unknown               7             2012-01-02      2017-10-05   \n",
              "1   female               9             2011-05-25      2017-09-11   \n",
              "2   female               9             2011-05-25      2017-09-11   \n",
              "3   female               9             2011-05-25      2017-09-11   \n",
              "4  Unknown               7             2012-01-02      2017-10-05   \n",
              "\n",
              "   genre_count  artist_repeat_percentage  composer_count  \n",
              "0            1                      46.3               2  \n",
              "1            1                      51.0               0  \n",
              "2            1                      21.5               1  \n",
              "3            1                     100.0               1  \n",
              "4            1                      37.7               3  "
            ]
          },
          "metadata": {
            "tags": []
          },
          "execution_count": 17
        }
      ]
    },
    {
      "metadata": {
        "id": "zoHcYdR_CVgg",
        "colab_type": "text"
      },
      "cell_type": "markdown",
      "source": [
        "## Tratamentos adicionais"
      ]
    },
    {
      "metadata": {
        "id": "LshUUXyWcJ_5",
        "colab_type": "code",
        "colab": {}
      },
      "cell_type": "code",
      "source": [
        "\n",
        "\n",
        "source_tab_dict = {\"my library\":8,\"discover\":7,\"search\":6,\"radio\":5,\"listen with\":4,\"explore\":3,\"notification\":2,\"settings\":1,\"Unknown\":0 }\n",
        "source_screen_name_dict = {\"Local playlist more\":19,\"Online playlist more\":18,\"Radio\":17,\"Unknown\":16,\"Album more\":15,\"Search\":14,\"Artist more\":13,\"Discover Feature\":12,\"Discover Chart\":11,\"Others profile more\":10,\"Discover Genre\":9,\"My library\":8,\"Explore\":7,\"Discover New\":6,\"Search Trends\":5,\"Search Home\":4,\"My library_Search\":3,\"Self profile more\":2,\"Concert\":1,\"Payment\":0}\n",
        "source_type_dict = {\"local-library\":12,\"online-playlist\":11,\"local-playlist\":10,\"radio\":9,\"album\":8,\"top-hits-for-artist\":7,\"song\":6,\"song-based-playlist\":5,\"listen-with\":4,\"Unknown\":3,\"topic-article-playlist\":2,\"artist\":1,\"my-daily-playlist\":0}\n",
        "\n",
        "df['source_system_tab'] = df['source_system_tab'].map(source_tab_dict)\n",
        "\n",
        "df['source_type'] = df['source_type'].map(source_type_dict)\n",
        "\n",
        "df['source_screen_name'] = df['source_screen_name'].map(source_screen_name_dict)\n",
        "\n",
        "gender = pd.get_dummies(df['gender'],drop_first=True)\n",
        "\n",
        "df = pd.concat([df,gender],axis=1)\n",
        "\n",
        "df.drop([\"composer\",\"gender\"],axis=1,inplace=True)\n",
        "\n",
        "df['validity_days'] = (df['expiration_date'] - df['registration_init_time']).dt.days\n",
        "\n",
        "df.drop([\"registration_init_time\",\"expiration_date\"],axis=1,inplace=True)\n",
        "\n",
        "df['lyricist'] = df['lyricist'].str.split(\"|\")\n",
        "\n",
        "df['lyricist_count'] = df['lyricist'].apply(lambda x : len(x) if \"Unknown\" not in x else 0 )\n",
        "\n",
        "df.drop(\"lyricist\",axis=1,inplace=True)\n",
        "\n",
        "df_songs_extra.drop(\"name\",axis=1,inplace=True)\n",
        "\n",
        "df = df.merge(df_songs_extra,how=\"left\",on=\"song_id\")"
      ],
      "execution_count": 0,
      "outputs": []
    },
    {
      "metadata": {
        "id": "pQ7wvI8JE5RK",
        "colab_type": "code",
        "colab": {}
      },
      "cell_type": "code",
      "source": [
        "def isrc_to_year(isrc):\n",
        "    if type(isrc) == str:\n",
        "        if int(isrc[5:7]) > 17:\n",
        "            return 1900 + int(isrc[5:7])\n",
        "        else:\n",
        "            return 2000 + int(isrc[5:7])\n",
        "    else:\n",
        "        return np.nan"
      ],
      "execution_count": 0,
      "outputs": []
    },
    {
      "metadata": {
        "id": "6-DsPqmxE6Yp",
        "colab_type": "code",
        "colab": {}
      },
      "cell_type": "code",
      "source": [
        "df['song_year'] = df['isrc'].apply(isrc_to_year)\n",
        "\n",
        "df.drop(\"isrc\",axis=1,inplace=True)\n",
        "\n",
        "df['song_year'].fillna(value=-1,inplace=True)\n",
        "\n",
        "df['song_year'] = df['song_year'].astype(\"int\")"
      ],
      "execution_count": 0,
      "outputs": []
    },
    {
      "metadata": {
        "id": "Twe3Vq8gFPRJ",
        "colab_type": "code",
        "colab": {}
      },
      "cell_type": "code",
      "source": [
        "df['source_system_tab'] = df['source_system_tab'].astype(\"category\")\n",
        "\n",
        "df['source_screen_name'] = df['source_screen_name'].astype(\"category\")\n",
        "\n",
        "df['source_type'] = df['source_type'].astype(\"category\")\n",
        "\n",
        "df['language'] = df['language'].astype(\"category\")\n",
        "\n",
        "df['city'] = df['city'].astype(\"category\")\n",
        "\n",
        "\n",
        "df['registered_via'] = df['registered_via'].astype(\"category\")"
      ],
      "execution_count": 0,
      "outputs": []
    },
    {
      "metadata": {
        "id": "m84QfjoQFXnc",
        "colab_type": "code",
        "colab": {}
      },
      "cell_type": "code",
      "source": [
        "\n",
        "\n",
        "#60% training 20% validation 20% test\n",
        "df_train, df_validate, df_test = np.split(df.sample(frac=1), [int(.6*len(df)), int(.8*len(df))])\n",
        "\n",
        "X = df_train.drop([\"msno\",\"song_id\",\"target\"],axis=1).values\n",
        "\n",
        "y = df_train['target'].values"
      ],
      "execution_count": 0,
      "outputs": []
    },
    {
      "metadata": {
        "id": "sEWqzQ4um5mi",
        "colab_type": "text"
      },
      "cell_type": "markdown",
      "source": [
        "## Catboost"
      ]
    },
    {
      "metadata": {
        "id": "o7_qm15YnAK0",
        "colab_type": "code",
        "colab": {
          "base_uri": "https://localhost:8080/",
          "height": 263
        },
        "outputId": "574d6c70-2242-4d6a-d6b0-78812eed1bd5"
      },
      "cell_type": "code",
      "source": [
        "!pip install catboost\n",
        "from catboost import CatBoostClassifier"
      ],
      "execution_count": 23,
      "outputs": [
        {
          "output_type": "stream",
          "text": [
            "Collecting catboost\n",
            "\u001b[?25l  Downloading https://files.pythonhosted.org/packages/4a/fd/063d095a42a3eb75cbb026bc5da0210dcd03b9a0fc8b2be4067e8557fe7d/catboost-0.9.1.1-cp36-none-manylinux1_x86_64.whl (53.0MB)\n",
            "\u001b[K    100% |████████████████████████████████| 53.0MB 718kB/s \n",
            "\u001b[?25hRequirement already satisfied: numpy in /usr/local/lib/python3.6/dist-packages (from catboost) (1.14.5)\n",
            "Collecting enum34 (from catboost)\n",
            "  Downloading https://files.pythonhosted.org/packages/af/42/cb9355df32c69b553e72a2e28daee25d1611d2c0d9c272aa1d34204205b2/enum34-1.1.6-py3-none-any.whl\n",
            "Requirement already satisfied: six in /usr/local/lib/python3.6/dist-packages (from catboost) (1.11.0)\n",
            "Requirement already satisfied: pandas in /usr/local/lib/python3.6/dist-packages (from catboost) (0.22.0)\n",
            "Requirement already satisfied: pytz>=2011k in /usr/local/lib/python3.6/dist-packages (from pandas->catboost) (2018.5)\n",
            "Requirement already satisfied: python-dateutil>=2 in /usr/local/lib/python3.6/dist-packages (from pandas->catboost) (2.5.3)\n",
            "Installing collected packages: enum34, catboost\n",
            "Successfully installed catboost-0.9.1.1 enum34-1.1.6\n"
          ],
          "name": "stdout"
        }
      ]
    },
    {
      "metadata": {
        "id": "zZqsAL45oZTN",
        "colab_type": "code",
        "colab": {
          "base_uri": "https://localhost:8080/",
          "height": 2017
        },
        "outputId": "f7801780-64d9-4a9e-cfa2-9ced686f27f1"
      },
      "cell_type": "code",
      "source": [
        "model = CatBoostClassifier(\n",
        "    iterations=100, \n",
        "    learning_rate=0.5, \n",
        "    depth=12, \n",
        "    loss_function='Logloss',\n",
        "    eval_metric='AUC',\n",
        "    use_best_model=True,\n",
        "    random_seed=1,\n",
        ")\n",
        "\n",
        "\n",
        "Xvalidate = df_validate.drop([\"msno\",\"song_id\",\"target\"],axis=1).values\n",
        "yvalidate = df_validate['target'].values\n",
        "\n",
        "model.fit(X,y, eval_set=(Xvalidate, yvalidate)) \n",
        "\n",
        "\n",
        "#params = {}\n",
        "#params['learning_rate'] = 0.5\n",
        "#params['application'] = 'binary'\n",
        "#params['max_depth'] = 12\n",
        "#params['num_leaves'] = 2**6\n",
        "#params['verbosity'] = 0\n",
        "#params['metric'] = 'auc'\n",
        "\n"
      ],
      "execution_count": 24,
      "outputs": [
        {
          "output_type": "stream",
          "text": [
            "0:\ttest: 0.6805754\tbest: 0.6805754 (0)\ttotal: 5.53s\tremaining: 9m 7s\n",
            "1:\ttest: 0.6850947\tbest: 0.6850947 (1)\ttotal: 11s\tremaining: 8m 59s\n",
            "2:\ttest: 0.6869394\tbest: 0.6869394 (2)\ttotal: 16.4s\tremaining: 8m 48s\n",
            "3:\ttest: 0.6884026\tbest: 0.6884026 (3)\ttotal: 21.9s\tremaining: 8m 45s\n",
            "4:\ttest: 0.6897916\tbest: 0.6897916 (4)\ttotal: 27.4s\tremaining: 8m 41s\n",
            "5:\ttest: 0.6910087\tbest: 0.6910087 (5)\ttotal: 33s\tremaining: 8m 37s\n",
            "6:\ttest: 0.6921527\tbest: 0.6921527 (6)\ttotal: 38.6s\tremaining: 8m 32s\n",
            "7:\ttest: 0.6948584\tbest: 0.6948584 (7)\ttotal: 44.1s\tremaining: 8m 27s\n",
            "8:\ttest: 0.6955783\tbest: 0.6955783 (8)\ttotal: 49.6s\tremaining: 8m 21s\n",
            "9:\ttest: 0.6967282\tbest: 0.6967282 (9)\ttotal: 55.2s\tremaining: 8m 16s\n",
            "10:\ttest: 0.6989597\tbest: 0.6989597 (10)\ttotal: 1m\tremaining: 8m 13s\n",
            "11:\ttest: 0.6998559\tbest: 0.6998559 (11)\ttotal: 1m 6s\tremaining: 8m 9s\n",
            "12:\ttest: 0.7013861\tbest: 0.7013861 (12)\ttotal: 1m 12s\tremaining: 8m 3s\n",
            "13:\ttest: 0.7016873\tbest: 0.7016873 (13)\ttotal: 1m 17s\tremaining: 7m 57s\n",
            "14:\ttest: 0.7028458\tbest: 0.7028458 (14)\ttotal: 1m 23s\tremaining: 7m 51s\n",
            "15:\ttest: 0.7034381\tbest: 0.7034381 (15)\ttotal: 1m 29s\tremaining: 7m 47s\n",
            "16:\ttest: 0.7046622\tbest: 0.7046622 (16)\ttotal: 1m 34s\tremaining: 7m 42s\n",
            "17:\ttest: 0.7052753\tbest: 0.7052753 (17)\ttotal: 1m 40s\tremaining: 7m 37s\n",
            "18:\ttest: 0.7056242\tbest: 0.7056242 (18)\ttotal: 1m 45s\tremaining: 7m 31s\n",
            "19:\ttest: 0.7068765\tbest: 0.7068765 (19)\ttotal: 1m 51s\tremaining: 7m 26s\n",
            "20:\ttest: 0.7076243\tbest: 0.7076243 (20)\ttotal: 1m 57s\tremaining: 7m 20s\n",
            "21:\ttest: 0.7079482\tbest: 0.7079482 (21)\ttotal: 2m 2s\tremaining: 7m 15s\n",
            "22:\ttest: 0.7083645\tbest: 0.7083645 (22)\ttotal: 2m 8s\tremaining: 7m 9s\n",
            "23:\ttest: 0.7086888\tbest: 0.7086888 (23)\ttotal: 2m 13s\tremaining: 7m 3s\n",
            "24:\ttest: 0.7096048\tbest: 0.7096048 (24)\ttotal: 2m 19s\tremaining: 6m 57s\n",
            "25:\ttest: 0.7114907\tbest: 0.7114907 (25)\ttotal: 2m 24s\tremaining: 6m 52s\n",
            "26:\ttest: 0.7123977\tbest: 0.7123977 (26)\ttotal: 2m 30s\tremaining: 6m 47s\n",
            "27:\ttest: 0.7132472\tbest: 0.7132472 (27)\ttotal: 2m 36s\tremaining: 6m 41s\n",
            "28:\ttest: 0.7138780\tbest: 0.7138780 (28)\ttotal: 2m 41s\tremaining: 6m 36s\n",
            "29:\ttest: 0.7140589\tbest: 0.7140589 (29)\ttotal: 2m 47s\tremaining: 6m 30s\n",
            "30:\ttest: 0.7144818\tbest: 0.7144818 (30)\ttotal: 2m 52s\tremaining: 6m 24s\n",
            "31:\ttest: 0.7149433\tbest: 0.7149433 (31)\ttotal: 2m 58s\tremaining: 6m 19s\n",
            "32:\ttest: 0.7158563\tbest: 0.7158563 (32)\ttotal: 3m 4s\tremaining: 6m 14s\n",
            "33:\ttest: 0.7163478\tbest: 0.7163478 (33)\ttotal: 3m 9s\tremaining: 6m 8s\n",
            "34:\ttest: 0.7172067\tbest: 0.7172067 (34)\ttotal: 3m 15s\tremaining: 6m 3s\n",
            "35:\ttest: 0.7181101\tbest: 0.7181101 (35)\ttotal: 3m 21s\tremaining: 5m 57s\n",
            "36:\ttest: 0.7185583\tbest: 0.7185583 (36)\ttotal: 3m 26s\tremaining: 5m 52s\n",
            "37:\ttest: 0.7189264\tbest: 0.7189264 (37)\ttotal: 3m 32s\tremaining: 5m 46s\n",
            "38:\ttest: 0.7194082\tbest: 0.7194082 (38)\ttotal: 3m 38s\tremaining: 5m 41s\n",
            "39:\ttest: 0.7197206\tbest: 0.7197206 (39)\ttotal: 3m 43s\tremaining: 5m 35s\n",
            "40:\ttest: 0.7198968\tbest: 0.7198968 (40)\ttotal: 3m 49s\tremaining: 5m 30s\n",
            "41:\ttest: 0.7209431\tbest: 0.7209431 (41)\ttotal: 3m 55s\tremaining: 5m 24s\n",
            "42:\ttest: 0.7210859\tbest: 0.7210859 (42)\ttotal: 4m\tremaining: 5m 19s\n",
            "43:\ttest: 0.7214243\tbest: 0.7214243 (43)\ttotal: 4m 6s\tremaining: 5m 13s\n",
            "44:\ttest: 0.7215049\tbest: 0.7215049 (44)\ttotal: 4m 11s\tremaining: 5m 7s\n",
            "45:\ttest: 0.7219382\tbest: 0.7219382 (45)\ttotal: 4m 17s\tremaining: 5m 2s\n",
            "46:\ttest: 0.7227821\tbest: 0.7227821 (46)\ttotal: 4m 23s\tremaining: 4m 56s\n",
            "47:\ttest: 0.7228328\tbest: 0.7228328 (47)\ttotal: 4m 28s\tremaining: 4m 51s\n",
            "48:\ttest: 0.7234105\tbest: 0.7234105 (48)\ttotal: 4m 34s\tremaining: 4m 45s\n",
            "49:\ttest: 0.7240149\tbest: 0.7240149 (49)\ttotal: 4m 39s\tremaining: 4m 39s\n",
            "50:\ttest: 0.7248747\tbest: 0.7248747 (50)\ttotal: 4m 45s\tremaining: 4m 34s\n",
            "51:\ttest: 0.7250159\tbest: 0.7250159 (51)\ttotal: 4m 51s\tremaining: 4m 28s\n",
            "52:\ttest: 0.7251390\tbest: 0.7251390 (52)\ttotal: 4m 56s\tremaining: 4m 23s\n",
            "53:\ttest: 0.7253912\tbest: 0.7253912 (53)\ttotal: 5m 2s\tremaining: 4m 17s\n",
            "54:\ttest: 0.7254600\tbest: 0.7254600 (54)\ttotal: 5m 8s\tremaining: 4m 12s\n",
            "55:\ttest: 0.7256067\tbest: 0.7256067 (55)\ttotal: 5m 13s\tremaining: 4m 6s\n",
            "56:\ttest: 0.7259264\tbest: 0.7259264 (56)\ttotal: 5m 19s\tremaining: 4m\n",
            "57:\ttest: 0.7260421\tbest: 0.7260421 (57)\ttotal: 5m 24s\tremaining: 3m 55s\n",
            "58:\ttest: 0.7261380\tbest: 0.7261380 (58)\ttotal: 5m 30s\tremaining: 3m 49s\n",
            "59:\ttest: 0.7264568\tbest: 0.7264568 (59)\ttotal: 5m 36s\tremaining: 3m 44s\n",
            "60:\ttest: 0.7264996\tbest: 0.7264996 (60)\ttotal: 5m 41s\tremaining: 3m 38s\n",
            "61:\ttest: 0.7267942\tbest: 0.7267942 (61)\ttotal: 5m 47s\tremaining: 3m 32s\n",
            "62:\ttest: 0.7268718\tbest: 0.7268718 (62)\ttotal: 5m 52s\tremaining: 3m 27s\n",
            "63:\ttest: 0.7270932\tbest: 0.7270932 (63)\ttotal: 5m 58s\tremaining: 3m 21s\n",
            "64:\ttest: 0.7272514\tbest: 0.7272514 (64)\ttotal: 6m 3s\tremaining: 3m 15s\n",
            "65:\ttest: 0.7275470\tbest: 0.7275470 (65)\ttotal: 6m 9s\tremaining: 3m 10s\n",
            "66:\ttest: 0.7276673\tbest: 0.7276673 (66)\ttotal: 6m 15s\tremaining: 3m 4s\n",
            "67:\ttest: 0.7279211\tbest: 0.7279211 (67)\ttotal: 6m 20s\tremaining: 2m 59s\n",
            "68:\ttest: 0.7280556\tbest: 0.7280556 (68)\ttotal: 6m 26s\tremaining: 2m 53s\n",
            "69:\ttest: 0.7281346\tbest: 0.7281346 (69)\ttotal: 6m 31s\tremaining: 2m 47s\n",
            "70:\ttest: 0.7283089\tbest: 0.7283089 (70)\ttotal: 6m 37s\tremaining: 2m 42s\n",
            "71:\ttest: 0.7284022\tbest: 0.7284022 (71)\ttotal: 6m 43s\tremaining: 2m 36s\n",
            "72:\ttest: 0.7284496\tbest: 0.7284496 (72)\ttotal: 6m 48s\tremaining: 2m 31s\n",
            "73:\ttest: 0.7285068\tbest: 0.7285068 (73)\ttotal: 6m 54s\tremaining: 2m 25s\n",
            "74:\ttest: 0.7293053\tbest: 0.7293053 (74)\ttotal: 6m 59s\tremaining: 2m 19s\n",
            "75:\ttest: 0.7299502\tbest: 0.7299502 (75)\ttotal: 7m 5s\tremaining: 2m 14s\n",
            "76:\ttest: 0.7303723\tbest: 0.7303723 (76)\ttotal: 7m 11s\tremaining: 2m 8s\n",
            "77:\ttest: 0.7305183\tbest: 0.7305183 (77)\ttotal: 7m 16s\tremaining: 2m 3s\n",
            "78:\ttest: 0.7307387\tbest: 0.7307387 (78)\ttotal: 7m 22s\tremaining: 1m 57s\n",
            "79:\ttest: 0.7307876\tbest: 0.7307876 (79)\ttotal: 7m 28s\tremaining: 1m 52s\n",
            "80:\ttest: 0.7309797\tbest: 0.7309797 (80)\ttotal: 7m 33s\tremaining: 1m 46s\n",
            "81:\ttest: 0.7315780\tbest: 0.7315780 (81)\ttotal: 7m 39s\tremaining: 1m 40s\n",
            "82:\ttest: 0.7320497\tbest: 0.7320497 (82)\ttotal: 7m 45s\tremaining: 1m 35s\n",
            "83:\ttest: 0.7326286\tbest: 0.7326286 (83)\ttotal: 7m 50s\tremaining: 1m 29s\n",
            "84:\ttest: 0.7327693\tbest: 0.7327693 (84)\ttotal: 7m 56s\tremaining: 1m 24s\n",
            "85:\ttest: 0.7330064\tbest: 0.7330064 (85)\ttotal: 8m 2s\tremaining: 1m 18s\n",
            "86:\ttest: 0.7331230\tbest: 0.7331230 (86)\ttotal: 8m 7s\tremaining: 1m 12s\n",
            "87:\ttest: 0.7334516\tbest: 0.7334516 (87)\ttotal: 8m 13s\tremaining: 1m 7s\n",
            "88:\ttest: 0.7335731\tbest: 0.7335731 (88)\ttotal: 8m 19s\tremaining: 1m 1s\n",
            "89:\ttest: 0.7338712\tbest: 0.7338712 (89)\ttotal: 8m 24s\tremaining: 56.1s\n",
            "90:\ttest: 0.7339927\tbest: 0.7339927 (90)\ttotal: 8m 30s\tremaining: 50.5s\n",
            "91:\ttest: 0.7340386\tbest: 0.7340386 (91)\ttotal: 8m 35s\tremaining: 44.9s\n",
            "92:\ttest: 0.7345010\tbest: 0.7345010 (92)\ttotal: 8m 41s\tremaining: 39.2s\n",
            "93:\ttest: 0.7347454\tbest: 0.7347454 (93)\ttotal: 8m 46s\tremaining: 33.6s\n",
            "94:\ttest: 0.7348067\tbest: 0.7348067 (94)\ttotal: 8m 52s\tremaining: 28s\n",
            "95:\ttest: 0.7351003\tbest: 0.7351003 (95)\ttotal: 8m 58s\tremaining: 22.4s\n",
            "96:\ttest: 0.7353184\tbest: 0.7353184 (96)\ttotal: 9m 3s\tremaining: 16.8s\n",
            "97:\ttest: 0.7355400\tbest: 0.7355400 (97)\ttotal: 9m 9s\tremaining: 11.2s\n",
            "98:\ttest: 0.7359049\tbest: 0.7359049 (98)\ttotal: 9m 14s\tremaining: 5.61s\n",
            "99:\ttest: 0.7361048\tbest: 0.7361048 (99)\ttotal: 9m 20s\tremaining: 0us\n",
            "\n",
            "bestTest = 0.736104836\n",
            "bestIteration = 99\n",
            "\n",
            "Shrink model to first 100 iterations.\n"
          ],
          "name": "stdout"
        },
        {
          "output_type": "execute_result",
          "data": {
            "text/plain": [
              "<catboost.core.CatBoostClassifier at 0x7f12465e16a0>"
            ]
          },
          "metadata": {
            "tags": []
          },
          "execution_count": 24
        }
      ]
    },
    {
      "metadata": {
        "id": "1nNf1ginxjaH",
        "colab_type": "code",
        "colab": {}
      },
      "cell_type": "code",
      "source": [
        "X_test = df_test.drop([\"msno\",\"song_id\",\"target\"],axis=1).values\n",
        "\n",
        "y_preds = model.predict(X_test)"
      ],
      "execution_count": 0,
      "outputs": []
    },
    {
      "metadata": {
        "id": "BSOjMpUVyWP9",
        "colab_type": "code",
        "colab": {
          "base_uri": "https://localhost:8080/",
          "height": 36
        },
        "outputId": "0ee5b855-b647-49a0-cd58-148fa472344d"
      },
      "cell_type": "code",
      "source": [
        "y_test = df_test['target'].values\n",
        "\n",
        "\n",
        "from sklearn.metrics import roc_auc_score\n",
        "roc_auc_score(y_test, y_preds)"
      ],
      "execution_count": 26,
      "outputs": [
        {
          "output_type": "execute_result",
          "data": {
            "text/plain": [
              "0.6736123630440292"
            ]
          },
          "metadata": {
            "tags": []
          },
          "execution_count": 26
        }
      ]
    }
  ]
}